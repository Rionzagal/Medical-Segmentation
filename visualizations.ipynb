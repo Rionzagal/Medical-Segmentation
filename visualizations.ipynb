{
 "cells": [
  {
   "cell_type": "code",
   "execution_count": 1,
   "metadata": {},
   "outputs": [],
   "source": [
    "import matplotlib\n",
    "matplotlib.use(\"TkAgg\")\n",
    "from matplotlib import pyplot as plt\n",
    "import nibabel as nib\n",
    "from nibabel import nifti1\n",
    "from nibabel.viewers import OrthoSlicer3D\n",
    "import numpy as np\n",
    "from src.data_generation import prepare_data, separate_masks\n",
    "import tables as tb"
   ]
  },
  {
   "cell_type": "code",
   "execution_count": 2,
   "metadata": {},
   "outputs": [
    {
     "name": "stdout",
     "output_type": "stream",
     "text": [
      "b''\n",
      "<class 'nibabel.arrayproxy.ArrayProxy'>\n"
     ]
    }
   ],
   "source": [
    "example_filename = r\"Data\\ATLAS_R2.0\\MNI152NLin2009aSym.nii.gz\"\n",
    "img = nib.load(example_filename)\n",
    "print(img.header[\"db_name\"])\n",
    "width, height, queue = img.dataobj.shape\n",
    "print(type(img.dataobj))"
   ]
  },
  {
   "cell_type": "code",
   "execution_count": 3,
   "metadata": {},
   "outputs": [
    {
     "name": "stdout",
     "output_type": "stream",
     "text": [
      "The example image has a shape of 197 cols, 233 rows, and 189\n"
     ]
    }
   ],
   "source": [
    "print(f\"The example image has a shape of {width} cols, {height} rows, and {queue}\")\n",
    "num = 1\n",
    "for i in range(0, queue, 10):\n",
    "    img_arr = img.dataobj[:, :, i]\n",
    "    plt.subplot(5, 4, num)\n",
    "    plt.imshow(img_arr, cmap=\"gray\")\n",
    "    num += 1\n",
    "plt.show()"
   ]
  },
  {
   "cell_type": "code",
   "execution_count": 4,
   "metadata": {},
   "outputs": [
    {
     "name": "stderr",
     "output_type": "stream",
     "text": [
      "Traceback (most recent call last):\n",
      "  File \"c:\\Users\\mgzzg\\AppData\\Local\\Programs\\Python\\Python310\\lib\\site-packages\\matplotlib\\cbook\\__init__.py\", line 307, in process\n",
      "    func(*args, **kwargs)\n",
      "TypeError: OrthoSlicer3D._cleanup() takes 1 positional argument but 2 were given\n"
     ]
    }
   ],
   "source": [
    "OrthoSlicer3D(img.dataobj).show()"
   ]
  },
  {
   "cell_type": "code",
   "execution_count": 5,
   "metadata": {},
   "outputs": [
    {
     "name": "stdout",
     "output_type": "stream",
     "text": [
      "The MRI volume has a shape of (197, 233, 189) with a maximum of 97.32924250897486 and a minimum of 0.0677947998046875\n",
      "The MRI has a data type of float64\n"
     ]
    }
   ],
   "source": [
    "image = img.get_fdata()\n",
    "np.expand_dims(image, axis=0)\n",
    "print(f\"The MRI volume has a shape of {image.shape} with a maximum of {np.max(image)} and a minimum of {np.min(image)}\")\n",
    "print(f\"The MRI has a data type of {image.dtype}\")"
   ]
  },
  {
   "cell_type": "code",
   "execution_count": 6,
   "metadata": {},
   "outputs": [
    {
     "name": "stdout",
     "output_type": "stream",
     "text": [
      "(197, 233, 123795)\n"
     ]
    }
   ],
   "source": [
    "with tb.open_file(\"Data\\\\image_data.h5\", \"r\") as f:\n",
    "    print(f.root.data[:].shape)"
   ]
  }
 ],
 "metadata": {
  "kernelspec": {
   "display_name": "Python 3 (ipykernel)",
   "language": "python",
   "name": "python3"
  },
  "language_info": {
   "codemirror_mode": {
    "name": "ipython",
    "version": 3
   },
   "file_extension": ".py",
   "mimetype": "text/x-python",
   "name": "python",
   "nbconvert_exporter": "python",
   "pygments_lexer": "ipython3",
   "version": "3.10.8"
  },
  "vscode": {
   "interpreter": {
    "hash": "f0d19069fd8f020fa5472c508cc2a848e65b399e6b568e5d8ab97f10e19ca8b7"
   }
  }
 },
 "nbformat": 4,
 "nbformat_minor": 2
}
