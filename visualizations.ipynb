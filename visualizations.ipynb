{
 "cells": [
  {
   "cell_type": "code",
   "execution_count": 5,
   "metadata": {},
   "outputs": [],
   "source": [
    "import matplotlib\n",
    "matplotlib.use(\"TkAgg\")\n",
    "from matplotlib import pyplot as plt\n",
    "import nibabel as nib\n",
    "from nibabel import nifti1\n",
    "from nibabel.viewers import OrthoSlicer3D\n",
    "import numpy as np\n",
    "import tables as tb\n",
    "import random"
   ]
  },
  {
   "cell_type": "code",
   "execution_count": null,
   "metadata": {},
   "outputs": [],
   "source": [
    "example_filename = r\"Data\\ATLAS_R2.0\\MNI152NLin2009aSym.nii.gz\"\n",
    "img = nib.load(example_filename)\n",
    "print(img.header[\"db_name\"])\n",
    "width, height, queue = img.dataobj.shape\n",
    "print(type(img.dataobj))"
   ]
  },
  {
   "cell_type": "code",
   "execution_count": null,
   "metadata": {},
   "outputs": [],
   "source": [
    "print(f\"The example image has a shape of {width} cols, {height} rows, and {queue}\")\n",
    "num = 1\n",
    "for i in range(0, queue, 10):\n",
    "    img_arr = img.dataobj[:, :, i]\n",
    "    plt.subplot(5, 4, num)\n",
    "    plt.imshow(img_arr, cmap=\"gray\")\n",
    "    num += 1\n",
    "plt.show()"
   ]
  },
  {
   "cell_type": "code",
   "execution_count": null,
   "metadata": {},
   "outputs": [],
   "source": [
    "OrthoSlicer3D(img.dataobj).show()"
   ]
  },
  {
   "cell_type": "code",
   "execution_count": null,
   "metadata": {},
   "outputs": [],
   "source": [
    "image = img.get_fdata()\n",
    "np.expand_dims(image, axis=0)\n",
    "print(f\"The MRI volume has a shape of {image.shape} with a maximum of {np.max(image)} and a minimum of {np.min(image)}\")\n",
    "print(f\"The MRI has a data type of {image.dtype}\")"
   ]
  },
  {
   "cell_type": "code",
   "execution_count": 6,
   "metadata": {},
   "outputs": [
    {
     "name": "stdout",
     "output_type": "stream",
     "text": [
      "Training mri has been saved!\n",
      "Validation mri has been saved!\n",
      "Training masks has been saved!\n",
      "Validation masks has been saved!\n"
     ]
    }
   ],
   "source": [
    "K = 5000\n",
    "with tb.open_file(\"Data\\\\image_data.h5\", \"r\") as f:\n",
    "    np.save(\"Data\\\\training_mri.npy\", f.root.data[0:K, :, :])\n",
    "    print(\"Training mri has been saved!\")\n",
    "    np.save(\"Data\\\\validation_mri.npy\", f.root.data[K:1.1*K, :, :])\n",
    "    print(\"Validation mri has been saved!\")\n",
    "\n",
    "with tb.open_file(\"Data\\\\mask_data.h5\", \"r\") as f:\n",
    "    np.save(\"Data\\\\training_masks.npy\", f.root.data[0:K, :, :])\n",
    "    print(\"Training masks has been saved!\")\n",
    "    np.save(\"Data\\\\validation_masks.npy\", f.root.data[K:1.1*K, :, :])\n",
    "    print(\"Validation masks has been saved!\")"
   ]
  },
  {
   "cell_type": "code",
   "execution_count": 7,
   "metadata": {},
   "outputs": [],
   "source": [
    "td_mri = np.load(\"Data\\\\training_mri.npy\")\n",
    "td_masks = np.load(\"Data\\\\training_masks.npy\")\n",
    "\n",
    "while(True):\n",
    "    image_number = random.randint(0, len(td_mri)-1)\n",
    "    if (1 == np.max(td_masks[image_number, :, :])):\n",
    "        plt.figure(figsize=(12, 6))\n",
    "        plt.subplot(121)\n",
    "        plt.imshow(td_mri[image_number, : ,:], cmap='gray')\n",
    "        plt.subplot(122)\n",
    "        plt.imshow(td_masks[image_number, : ,:], cmap='gray')\n",
    "        plt.show()\n",
    "        break;"
   ]
  }
 ],
 "metadata": {
  "kernelspec": {
   "display_name": "Python 3 (ipykernel)",
   "language": "python",
   "name": "python3"
  },
  "language_info": {
   "codemirror_mode": {
    "name": "ipython",
    "version": 3
   },
   "file_extension": ".py",
   "mimetype": "text/x-python",
   "name": "python",
   "nbconvert_exporter": "python",
   "pygments_lexer": "ipython3",
   "version": "3.10.8"
  },
  "vscode": {
   "interpreter": {
    "hash": "f0d19069fd8f020fa5472c508cc2a848e65b399e6b568e5d8ab97f10e19ca8b7"
   }
  }
 },
 "nbformat": 4,
 "nbformat_minor": 2
}
