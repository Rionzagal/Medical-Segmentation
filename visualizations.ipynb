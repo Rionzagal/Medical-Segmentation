{
 "cells": [
  {
   "cell_type": "code",
   "execution_count": 18,
   "metadata": {},
   "outputs": [],
   "source": [
    "import matplotlib\n",
    "matplotlib.use(\"TkAgg\")\n",
    "from matplotlib import pyplot as plt\n",
    "import nibabel as nib\n",
    "from nibabel import nifti1\n",
    "from nibabel.viewers import OrthoSlicer3D\n",
    "import numpy as np"
   ]
  },
  {
   "cell_type": "code",
   "execution_count": 8,
   "metadata": {},
   "outputs": [
    {
     "name": "stdout",
     "output_type": "stream",
     "text": [
      "b''\n",
      "<class 'nibabel.arrayproxy.ArrayProxy'>\n"
     ]
    }
   ],
   "source": [
    "example_filename = \"Data/ATLAS_2/MNI152NLin2009aSym.nii.gz\"\n",
    "img = nib.load(example_filename)\n",
    "print(img.header[\"db_name\"])\n",
    "width, height, queue = img.dataobj.shape\n",
    "print(type(img.dataobj))"
   ]
  },
  {
   "cell_type": "code",
   "execution_count": 3,
   "metadata": {},
   "outputs": [
    {
     "name": "stdout",
     "output_type": "stream",
     "text": [
      "The example image has a shape of 197 cols, 233 rows, and 189\n"
     ]
    }
   ],
   "source": [
    "print(f\"The example image has a shape of {width} cols, {height} rows, and {queue}\")\n",
    "num = 1\n",
    "for i in range(0, queue, 10):\n",
    "    img_arr = img.dataobj[:, :, i]\n",
    "    plt.subplot(5, 4, num)\n",
    "    plt.imshow(img_arr, cmap=\"gray\")\n",
    "    num += 1\n",
    "plt.show()"
   ]
  },
  {
   "cell_type": "code",
   "execution_count": 4,
   "metadata": {},
   "outputs": [
    {
     "name": "stderr",
     "output_type": "stream",
     "text": [
      "Traceback (most recent call last):\n",
      "  File \"c:\\Users\\mgzzg\\AppData\\Local\\Programs\\Python\\Python310\\lib\\site-packages\\matplotlib\\cbook\\__init__.py\", line 307, in process\n",
      "    func(*args, **kwargs)\n",
      "TypeError: OrthoSlicer3D._cleanup() takes 1 positional argument but 2 were given\n"
     ]
    }
   ],
   "source": [
    "OrthoSlicer3D(img.dataobj).show()"
   ]
  },
  {
   "cell_type": "code",
   "execution_count": 27,
   "metadata": {},
   "outputs": [
    {
     "name": "stdout",
     "output_type": "stream",
     "text": [
      "97.32924250897486\n",
      "0.0677947998046875\n"
     ]
    }
   ],
   "source": [
    "image = img.get_fdata()\n",
    "print(np.max(image))\n",
    "print(np.min(image))"
   ]
  }
 ],
 "metadata": {
  "kernelspec": {
   "display_name": "Python 3 (ipykernel)",
   "language": "python",
   "name": "python3"
  },
  "language_info": {
   "codemirror_mode": {
    "name": "ipython",
    "version": 3
   },
   "file_extension": ".py",
   "mimetype": "text/x-python",
   "name": "python",
   "nbconvert_exporter": "python",
   "pygments_lexer": "ipython3",
   "version": "3.9.13"
  },
  "vscode": {
   "interpreter": {
    "hash": "f0d19069fd8f020fa5472c508cc2a848e65b399e6b568e5d8ab97f10e19ca8b7"
   }
  }
 },
 "nbformat": 4,
 "nbformat_minor": 2
}
