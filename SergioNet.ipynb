{
  "cells": [
    {
      "cell_type": "markdown",
      "metadata": {
        "id": "view-in-github",
        "colab_type": "text"
      },
      "source": [
        "<a href=\"https://colab.research.google.com/github/Rionzagal/Medical-Segmentation/blob/main/SergioNet.ipynb\" target=\"_parent\"><img src=\"https://colab.research.google.com/assets/colab-badge.svg\" alt=\"Open In Colab\"/></a>"
      ]
    },
    {
      "cell_type": "code",
      "execution_count": null,
      "id": "3b474a0c",
      "metadata": {
        "id": "3b474a0c"
      },
      "outputs": [],
      "source": []
    },
    {
      "cell_type": "code",
      "metadata": {
        "id": "mGaY-5G4Ia6G"
      },
      "source": [
        "from tensorflow.keras.utils import normalize\n",
        "import os\n",
        "import cv2\n",
        "from PIL import Image\n",
        "import numpy as np\n",
        "from matplotlib import pyplot as plt\n",
        "from sklearn.preprocessing import MinMaxScaler\n",
        "from keras.optimizers import Adam\n",
        "import glob"
      ],
      "execution_count": 1,
      "outputs": [],
      "id": "mGaY-5G4Ia6G"
    },
    {
      "cell_type": "code",
      "source": [
        "image_directory = '/content/drive/MyDrive/Colab Notebooks/data/mitochondria/mito256x256/images/'\n",
        "mask_directory = '/content/drive/MyDrive/Colab Notebooks/data/mitochondria/mito256x256/masks/'"
      ],
      "metadata": {
        "id": "W5-jYZstEqcf"
      },
      "id": "W5-jYZstEqcf",
      "execution_count": null,
      "outputs": []
    }
  ],
  "metadata": {
    "kernelspec": {
      "display_name": "Python 3 (ipykernel)",
      "language": "python",
      "name": "python3"
    },
    "language_info": {
      "codemirror_mode": {
        "name": "ipython",
        "version": 3
      },
      "file_extension": ".py",
      "mimetype": "text/x-python",
      "name": "python",
      "nbconvert_exporter": "python",
      "pygments_lexer": "ipython3",
      "version": "3.9.13"
    },
    "colab": {
      "provenance": [],
      "include_colab_link": true
    },
    "accelerator": "GPU",
    "gpuClass": "standard"
  },
  "nbformat": 4,
  "nbformat_minor": 5
}